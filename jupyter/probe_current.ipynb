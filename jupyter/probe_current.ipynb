{
 "cells": [
  {
   "attachments": {},
   "cell_type": "markdown",
   "metadata": {},
   "source": [
    "# How many electron's per pixel\n",
    "\n",
    "For a given probe current and pixel dwell time, how many electrons from the beam interact with the sample producing the signal."
   ]
  },
  {
   "cell_type": "code",
   "execution_count": 6,
   "metadata": {},
   "outputs": [],
   "source": [
    "using PhysicalConstants.CODATA2018\n",
    "using Unitful"
   ]
  },
  {
   "attachments": {},
   "cell_type": "markdown",
   "metadata": {},
   "source": [
    "Define a unit, `qe` to represent a single electron charge.\n",
    "\n",
    "Then compute the equivalent of 1 ampere in electrons/s."
   ]
  },
  {
   "cell_type": "code",
   "execution_count": 7,
   "metadata": {},
   "outputs": [
    {
     "data": {
      "text/plain": [
       "6.241509074460763e18 qe s^-1"
      ]
     },
     "metadata": {},
     "output_type": "display_data"
    }
   ],
   "source": [
    "Unitful.register(@__MODULE__)\n",
    "@unit qe \"qe\" ElectronCharge ElementaryCharge false;\n",
    "uconvert(u\"qe/s\", 1.0u\"A\")"
   ]
  },
  {
   "attachments": {},
   "cell_type": "markdown",
   "metadata": {},
   "source": [
    "Needless to say, $6.2 × 10^{18}$ electrons per second seems like a lot.  Until...\n",
    "\n",
    "Let's consider a large probe current of 1 μA and a pixel dwell of 1 μs."
   ]
  },
  {
   "cell_type": "code",
   "execution_count": 8,
   "metadata": {},
   "outputs": [
    {
     "data": {
      "text/plain": [
       "6.241509074460763e6 qe"
      ]
     },
     "metadata": {},
     "output_type": "display_data"
    }
   ],
   "source": [
    "uconvert(u\"qe\", 1.0u\"μA\"*1.0e-6u\"s\")"
   ]
  },
  {
   "attachments": {},
   "cell_type": "markdown",
   "metadata": {},
   "source": [
    "Even for this unrealistically large probe current, the number of incident electrons per pixel is diminished by 12 orders-of-magnitude.\n",
    "\n",
    "If we consider a more realistic probe current of 1 nA, the number of incident electrons per pixel is diminisehed by 15 orders-of-magnitude, to the thousands of electrons per pixel."
   ]
  },
  {
   "cell_type": "code",
   "execution_count": 9,
   "metadata": {},
   "outputs": [
    {
     "data": {
      "text/plain": [
       "6241.509074460763 qe"
      ]
     },
     "metadata": {},
     "output_type": "display_data"
    }
   ],
   "source": [
    "uconvert(u\"qe\", 1.0u\"nA\"*1.0e-6u\"s\")"
   ]
  },
  {
   "attachments": {},
   "cell_type": "markdown",
   "metadata": {},
   "source": [
    "To get the highest resolution, it is often necessary to cut the probe current into the pico-ampere range where the number electrons per pixel is on the order of 10."
   ]
  },
  {
   "cell_type": "code",
   "execution_count": 10,
   "metadata": {},
   "outputs": [
    {
     "data": {
      "text/plain": [
       "6.241509074460763 qe"
      ]
     },
     "metadata": {},
     "output_type": "display_data"
    }
   ],
   "source": [
    "uconvert(u\"qe\", 1.0u\"pA\"*1.0e-6u\"s\")"
   ]
  },
  {
   "attachments": {},
   "cell_type": "markdown",
   "metadata": {},
   "source": [
    "If we understand the signal measurement process as a counting process, the signal can be modeled as a Poissoinan process.\n",
    "\n",
    "For a Poissonian process, the uncertainty (approximately) scales as the square root of the number of events.  \n",
    "\n",
    "The maximum number of events is represented by the number of incident electrons per pixel.  Depending upon the collection efficiency of the measurement signal, the actual signal size may be an order-of-magnitude or more smaller.  For example, for the backscatter process from a low atomic number material, only 10% or fewer of the incident electrons will backscatter and only a fraction of these actually strike the detector.  Secondary electron generation and emission can be much more efficient."
   ]
  },
  {
   "attachments": {},
   "cell_type": "markdown",
   "metadata": {},
   "source": [
    "Let's compute the fractional uncertainty for each of the previous three probe current/dwell conditions."
   ]
  },
  {
   "cell_type": "code",
   "execution_count": 11,
   "metadata": {},
   "outputs": [
    {
     "data": {
      "text/plain": [
       "(0.00040027198677899007, 0.01265771161782413, 0.40027198677899006)"
      ]
     },
     "metadata": {},
     "output_type": "display_data"
    }
   ],
   "source": [
    "sqrt(ustrip(u\"qe\", 1.0u\"μA\"*1.0e-6u\"s\"))/ustrip(u\"qe\", 1.0u\"μA\"*1.0e-6u\"s\"), sqrt(ustrip(u\"qe\", 1.0u\"nA\"*1.0e-6u\"s\"))/ustrip(u\"qe\", 1.0u\"nA\"*1.0e-6u\"s\"),sqrt(ustrip(u\"qe\", 1.0u\"pA\"*1.0e-6u\"s\"))/ustrip(u\"qe\", 1.0u\"pA\"*1.0e-6u\"s\")"
   ]
  },
  {
   "attachments": {},
   "cell_type": "markdown",
   "metadata": {},
   "source": [
    "This is to say at the nominal conditions of 1 nA and 1 μs, the best signal-to-noise you could possibly expect would be about 80-to-1 and at 1 pA, about 2-to-1."
   ]
  },
  {
   "attachments": {},
   "cell_type": "markdown",
   "metadata": {},
   "source": [
    "What can you do about this?\n",
    "\n",
    "  1) Select the maximum beam current that gives you the resolution you require.\n",
    "  2) Average, average, average.  Through a combination of pixel averaging, line averaging and/or frame averaging you can increase the effective dwell time per pixel.\n",
    "\n",
    "  As the process is Poissonian, you expect to improve your signal-to-noise by a factor of 2 for each increase in effective dwell of a factor of 4.  (Equivalently, a factor of 10 for each increase in effective dwell of a factor of 100.) "
   ]
  },
  {
   "attachments": {},
   "cell_type": "markdown",
   "metadata": {},
   "source": [
    "### How many electrons are in the column simultaneously?\n",
    "\n",
    "Given there aren't really that many electrons in the beam, this begs the question:  For a given probe current, beam energy and column length, how many electrons are there within the column at any given instance."
   ]
  },
  {
   "cell_type": "code",
   "execution_count": 12,
   "metadata": {},
   "outputs": [
    {
     "data": {
      "text/plain": [
       "8.150335010629047e9 cm s^-1"
      ]
     },
     "metadata": {},
     "output_type": "display_data"
    }
   ],
   "source": [
    "using NeXLCore\n",
    "using Unitful\n",
    "# What is the velocity of a 20 keV electron?\n",
    "vₑ(20.0u\"keV\")"
   ]
  },
  {
   "attachments": {},
   "cell_type": "markdown",
   "metadata": {},
   "source": [
    "Let's assume a beam energy of 20 keV, a probe current of 1 nA and a column length of 0.5 m.\n",
    "\n",
    "What is the transit time for an column of 50 cm at 20 keV?  `vₑ(E)` is a relativistically correct function mapping energy to velocity."
   ]
  },
  {
   "cell_type": "code",
   "execution_count": 13,
   "metadata": {},
   "outputs": [
    {
     "data": {
      "text/plain": [
       "6.134717153932176e-9 s"
      ]
     },
     "metadata": {},
     "output_type": "display_data"
    }
   ],
   "source": [
    "50.0u\"cm\"/vₑ(20.0u\"keV\")"
   ]
  },
  {
   "attachments": {},
   "cell_type": "markdown",
   "metadata": {},
   "source": [
    "How many electrons/s for 1 nA?"
   ]
  },
  {
   "cell_type": "code",
   "execution_count": 14,
   "metadata": {},
   "outputs": [
    {
     "data": {
      "text/plain": [
       "6.241509074460764e9 qe s^-1"
      ]
     },
     "metadata": {},
     "output_type": "display_data"
    }
   ],
   "source": [
    "uconvert(u\"qe/s\", 1.0u\"nA\")"
   ]
  },
  {
   "attachments": {},
   "cell_type": "markdown",
   "metadata": {},
   "source": [
    "THe product of these gives the mean number of electrons in the column at a given instant?"
   ]
  },
  {
   "cell_type": "code",
   "execution_count": 16,
   "metadata": {},
   "outputs": [
    {
     "data": {
      "text/plain": [
       "38.289892785517786 qe"
      ]
     },
     "metadata": {},
     "output_type": "display_data"
    }
   ],
   "source": [
    "uconvert(u\"qe/s\", 1.0u\"nA\")*(50u\"cm\"/vₑ(20.0u\"keV\"))"
   ]
  },
  {
   "attachments": {},
   "cell_type": "markdown",
   "metadata": {},
   "source": [
    "Or roughly, one electron per cm (yes, roughly...)  At lower probe currents, the number of electrons in the column can be less than one."
   ]
  },
  {
   "cell_type": "code",
   "execution_count": 17,
   "metadata": {},
   "outputs": [
    {
     "data": {
      "text/plain": [
       "0.03828989278551778 qe"
      ]
     },
     "metadata": {},
     "output_type": "display_data"
    }
   ],
   "source": [
    "uconvert(u\"qe/s\", 1.0u\"pA\")*(50u\"cm\"/vₑ(20.0u\"keV\"))"
   ]
  }
 ],
 "metadata": {
  "kernelspec": {
   "display_name": "Julia 1.9.0",
   "language": "julia",
   "name": "julia-1.9"
  },
  "language_info": {
   "file_extension": ".jl",
   "mimetype": "application/julia",
   "name": "julia",
   "version": "1.9.0"
  },
  "orig_nbformat": 4
 },
 "nbformat": 4,
 "nbformat_minor": 2
}
